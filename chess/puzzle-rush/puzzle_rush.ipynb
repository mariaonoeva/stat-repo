{
 "cells": [
  {
   "metadata": {},
   "cell_type": "markdown",
   "source": [
    "# Puzzle rush\n",
    "Hi, I'm Masha and this is my code that collects and analyzes my Puzzle Rush progress. Puzzle Rush is a puzzle solving mode on chess.com where one has to solve as many chess puzzles as possible up to three mistakes. There are three time controls—3 mins, 5 mins and no time. I enjoy this mode very much and play it a lot. My current record (02.03.25) for 3 mins is 23 puzzles and I want to improve. To see my progress, I create this script for storing and analyzing my progress. \n",
    "\n",
    "The initial idea was to simply scrap my data from chess.com API, but it's unfortunately not enough for me. It only shows this much. "
   ],
   "id": "9e8dd67ced1cbd4c"
  },
  {
   "metadata": {
    "ExecuteTime": {
     "end_time": "2025-03-02T13:14:02.344114Z",
     "start_time": "2025-03-02T13:14:02.063339Z"
    }
   },
   "cell_type": "code",
   "source": [
    "import requests \n",
    "from pprint import pprint\n",
    "headers = {\n",
    "    \"User-Agent\": \"PyCharm 2024.1.1 (Professional Edition), \"\n",
    "                  \"(maria.onoeva@gmail.com)\"\n",
    "}\n",
    "\n",
    "url =\"https://api.chess.com/pub/player/xoroshulia/stats\"\n",
    "url_req = requests.get(url, headers=headers)\n",
    "pprint(url_req.json())"
   ],
   "id": "86ed4cc58780e798",
   "outputs": [
    {
     "name": "stdout",
     "output_type": "stream",
     "text": [
      "{'chess_blitz': {'best': {'date': 1692653200,\n",
      "                          'game': 'https://www.chess.com/game/live/115556343103',\n",
      "                          'rating': 747},\n",
      "                 'last': {'date': 1740911160, 'rating': 149, 'rd': 93},\n",
      "                 'record': {'draw': 0, 'loss': 13, 'win': 3}},\n",
      " 'chess_daily': {'best': {'date': 1717835845,\n",
      "                          'game': 'https://www.chess.com/game/daily/653298061',\n",
      "                          'rating': 1048},\n",
      "                 'last': {'date': 1729955915, 'rating': 1048, 'rd': 218},\n",
      "                 'record': {'draw': 0,\n",
      "                            'loss': 0,\n",
      "                            'time_per_move': 31134,\n",
      "                            'timeout_percent': 0,\n",
      "                            'win': 5}},\n",
      " 'chess_rapid': {'best': {'date': 1644312554,\n",
      "                          'game': 'https://www.chess.com/game/live/128116764579',\n",
      "                          'rating': 952},\n",
      "                 'last': {'date': 1736244842, 'rating': 739, 'rd': 61},\n",
      "                 'record': {'draw': 25, 'loss': 223, 'win': 244}},\n",
      " 'puzzle_rush': {'best': {'score': 28, 'total_attempts': 31},\n",
      "                 'daily': {'score': 23, 'total_attempts': 25}},\n",
      " 'tactics': {'highest': {'date': 1739126279, 'rating': 1964},\n",
      "             'lowest': {'date': 1618254775, 'rating': 374}}}\n"
     ]
    }
   ],
   "execution_count": 4
  },
  {
   "metadata": {},
   "cell_type": "markdown",
   "source": "<code>puzzle_rush</code> is second from the bottom, and it's not detailed enough for me. It stores only one last attempt and the highest just for one time control (this is going to update every time I re-run this code). ",
   "id": "456d95cbc362057c"
  },
  {
   "metadata": {},
   "cell_type": "markdown",
   "source": "So my idea is to manually document all attempts. I have already begun, and it is loaded here to <code>data/puzzle_rush.csv</code>. It contains 5 columns--Date, Format, Solved, Time, Errors. The idea is to enter from the command line all this info after each attempt. ",
   "id": "f05adb40d323ca6f"
  },
  {
   "metadata": {
    "ExecuteTime": {
     "end_time": "2025-03-05T09:21:02.192407Z",
     "start_time": "2025-03-05T09:20:54.665687Z"
    }
   },
   "cell_type": "code",
   "source": [
    "from datetime import datetime\n",
    "import csv \n",
    "data = input('Enter you result (format, solved puzzles, time left, errors): ')\n",
    "data_write = datetime.today().strftime('%Y-%m-%d %H:%M:%S') + ',3,' + data\n",
    "\n",
    "test_file = 'data/puzzle_rush_auto.csv'\n",
    "with open(test_file, 'a', newline='') as csvfile:\n",
    "    writer = csv.writer(csvfile, delimiter=',')\n",
    "    writer.writerow(data_write.split(','))\n",
    "    \n",
    "with open(test_file, 'r') as csvfile:\n",
    "    content = csv.reader(csvfile, delimiter=',')\n",
    "    for row in content:\n",
    "        print(row)"
   ],
   "id": "7f0d43116768f627",
   "outputs": [
    {
     "name": "stdout",
     "output_type": "stream",
     "text": [
      "['Date', 'Format', 'Solved', 'Time left, sec', 'Errors']\n",
      "['2025-03-03 10:35:31', '3', '20', '9', '3']\n",
      "['2025-03-03 10:41:13', '3', '20', '0', '3']\n",
      "['2025-03-03 10:45:12', '3', '14', '75', '3']\n",
      "['2025-03-04 10:42:08', '3', '18', '52', '3']\n",
      "['2025-03-04 10:46:30', '3', '17', '0', '3']\n",
      "['2025-03-04 10:49:29', '3', '13', '66', '3']\n",
      "['2025-03-05 10:03:58', '3', '12', '58', '3']\n",
      "['2025-03-05 10:06:29', '3', '14', '78', '3']\n",
      "['2025-03-05 10:09:24', '3', '10', '86', '3']\n",
      "['2025-03-05 10:18:20', '3', '18', '0', '2']\n",
      "['2025-03-05 10:21:02', '3', '15', '46', '3']\n"
     ]
    }
   ],
   "execution_count": 5
  },
  {
   "metadata": {},
   "cell_type": "code",
   "outputs": [],
   "execution_count": null,
   "source": "",
   "id": "cab5266f1a2f30ca"
  }
 ],
 "metadata": {
  "kernelspec": {
   "display_name": "Python 3",
   "language": "python",
   "name": "python3"
  },
  "language_info": {
   "codemirror_mode": {
    "name": "ipython",
    "version": 2
   },
   "file_extension": ".py",
   "mimetype": "text/x-python",
   "name": "python",
   "nbconvert_exporter": "python",
   "pygments_lexer": "ipython2",
   "version": "2.7.6"
  }
 },
 "nbformat": 4,
 "nbformat_minor": 5
}
