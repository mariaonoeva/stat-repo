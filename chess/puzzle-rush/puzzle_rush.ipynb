{
 "cells": [
  {
   "metadata": {},
   "cell_type": "markdown",
   "source": [
    "# Puzzle rush\n",
    "Hi, I'm Masha and this is my code that collects and analyzes my Puzzle Rush progress. Puzzle Rush is a puzzle solving mode on `chess.com` where one has to solve as many chess puzzles as possible up to three mistakes. There are three time controls—3 mins, 5 mins and no time. I enjoy this mode very much and play it a lot. My current record (02.03.25) for 3 mins is 23 puzzles and I want to improve. To see my progress, I create this script for storing and analyzing my progress. \n",
    "\n",
    "The initial idea was to simply scrap my data from `chess.com` API, but it's unfortunately not enough for me. It only shows this much. "
   ],
   "id": "9e8dd67ced1cbd4c"
  },
  {
   "metadata": {
    "ExecuteTime": {
     "end_time": "2025-03-02T13:14:02.344114Z",
     "start_time": "2025-03-02T13:14:02.063339Z"
    }
   },
   "cell_type": "code",
   "source": [
    "import requests \n",
    "from pprint import pprint\n",
    "headers = {\n",
    "    \"User-Agent\": \"PyCharm 2024.1.1 (Professional Edition), \"\n",
    "                  \"(maria.onoeva@gmail.com)\"\n",
    "}\n",
    "\n",
    "url =\"https://api.chess.com/pub/player/xoroshulia/stats\"\n",
    "url_req = requests.get(url, headers=headers)\n",
    "pprint(url_req.json())"
   ],
   "id": "86ed4cc58780e798",
   "outputs": [
    {
     "name": "stdout",
     "output_type": "stream",
     "text": [
      "{'chess_blitz': {'best': {'date': 1692653200,\n",
      "                          'game': 'https://www.chess.com/game/live/115556343103',\n",
      "                          'rating': 747},\n",
      "                 'last': {'date': 1740911160, 'rating': 149, 'rd': 93},\n",
      "                 'record': {'draw': 0, 'loss': 13, 'win': 3}},\n",
      " 'chess_daily': {'best': {'date': 1717835845,\n",
      "                          'game': 'https://www.chess.com/game/daily/653298061',\n",
      "                          'rating': 1048},\n",
      "                 'last': {'date': 1729955915, 'rating': 1048, 'rd': 218},\n",
      "                 'record': {'draw': 0,\n",
      "                            'loss': 0,\n",
      "                            'time_per_move': 31134,\n",
      "                            'timeout_percent': 0,\n",
      "                            'win': 5}},\n",
      " 'chess_rapid': {'best': {'date': 1644312554,\n",
      "                          'game': 'https://www.chess.com/game/live/128116764579',\n",
      "                          'rating': 952},\n",
      "                 'last': {'date': 1736244842, 'rating': 739, 'rd': 61},\n",
      "                 'record': {'draw': 25, 'loss': 223, 'win': 244}},\n",
      " 'puzzle_rush': {'best': {'score': 28, 'total_attempts': 31},\n",
      "                 'daily': {'score': 23, 'total_attempts': 25}},\n",
      " 'tactics': {'highest': {'date': 1739126279, 'rating': 1964},\n",
      "             'lowest': {'date': 1618254775, 'rating': 374}}}\n"
     ]
    }
   ],
   "execution_count": 4
  },
  {
   "metadata": {},
   "cell_type": "markdown",
   "source": "<code>puzzle_rush</code> is second from the bottom, and it's not detailed enough for me. It stores only one last attempt and the highest just for one time control (this is going to update every time I re-run this code). ",
   "id": "456d95cbc362057c"
  },
  {
   "metadata": {},
   "cell_type": "markdown",
   "source": [
    "So my idea is to manually document all attempts. I have already begun, and it is loaded here to `data/puzzle_rush.csv`. It contains 5 columns--Date, Format, Solved, Time, Errors. The idea is to enter from the command line all this info after each attempt. \n",
    "\n",
    "Below is the code that requires an input from the command line. In `data`, I enter three data points—number of solved puzzles, time left in seconds, number of errors. It is then stored with time of solving, 3-minute mode in `data_write`. A new line is then added to a different csv file, e.g., the data for March 2025 is stored in `puzzle_rush_202503.csv`. "
   ],
   "id": "f05adb40d323ca6f"
  },
  {
   "metadata": {
    "ExecuteTime": {
     "end_time": "2025-04-01T09:03:03.119439Z",
     "start_time": "2025-04-01T09:02:59.125769Z"
    }
   },
   "cell_type": "code",
   "source": [
    "from datetime import datetime\n",
    "import csv \n",
    "\n",
    "data = input('Enter you result (solved puzzles, time left, errors): ')\n",
    "data_write = datetime.today().strftime('%Y-%m-%d %H:%M:%S') + ',3,' + data\n",
    "\n",
    "csv_file = 'data/puzzle_rush_202504.csv'\n",
    "\n",
    "with open(csv_file, 'a', newline='') as csvfile:\n",
    "    writer = csv.writer(csvfile, delimiter=',')\n",
    "    writer.writerow(data_write.split(','))\n",
    "    lines = csv.reader(csvfile)\n",
    "    "
   ],
   "id": "7f0d43116768f627",
   "outputs": [],
   "execution_count": 10
  },
  {
   "metadata": {},
   "cell_type": "markdown",
   "source": "These lines print output from `puzzle_rush_202503.csv`, if necessary.",
   "id": "64fe7473900c8a24"
  },
  {
   "metadata": {},
   "cell_type": "code",
   "outputs": [],
   "execution_count": null,
   "source": [
    "# with open(test_file, 'r') as csvfile:\n",
    "#     content = csv.reader(csvfile, delimiter=',')\n",
    "#     for row in content:\n",
    "#         print(row)"
   ],
   "id": "cab5266f1a2f30ca"
  },
  {
   "metadata": {},
   "cell_type": "markdown",
   "source": "Now I create a plot with all my attempts. It takes info from the csv file and draws a plot using `matplotlib`.",
   "id": "d427dd77af581f98"
  },
  {
   "metadata": {
    "ExecuteTime": {
     "end_time": "2025-04-01T09:03:05.549737Z",
     "start_time": "2025-04-01T09:03:05.453160Z"
    }
   },
   "cell_type": "code",
   "source": [
    "import matplotlib.pyplot as plt\n",
    "from matplotlib.pyplot import figure\n",
    "\n",
    "figure(figsize=(20, 5), dpi=80)\n",
    "\n",
    "date_time = []\n",
    "score = []\n",
    "errors = []\n",
    "time_left = []\n",
    "\n",
    "with open(csv_file, 'r') as csvfile:\n",
    "    lines = csv.reader(csvfile, delimiter=',')\n",
    "    for row in lines:\n",
    "        date_time.append(row[0])\n",
    "        score.append(int(row[2]))\n",
    "        time_left.append(int(row[3]))\n",
    "        errors.append(int(row[4]))\n",
    "\n",
    "# cosmetics\n",
    "plt.title(\"Puzzle Rush March 2025\")\n",
    "plt.xlabel(\"Date and Time\")\n",
    "plt.ylabel(\"Score\")\n",
    "plt.xticks(rotation=90)\n",
    "plt.grid()\n",
    "\n",
    "# draws one red line on y = 15 \n",
    "plt.axhline(linewidth=2, color='r', y=15)\n",
    "\n",
    "# data for the plot\n",
    "plt.plot(date_time, score, color = 'g', linestyle = 'dashed', marker = 'o')\n",
    "\n",
    "plt.show() "
   ],
   "id": "d7e20dbc81be1a04",
   "outputs": [
    {
     "data": {
      "text/plain": [
       "<Figure size 1600x400 with 1 Axes>"
      ],
      "image/png": "[encoded data removed]"
     },
     "metadata": {},
     "output_type": "display_data"
    }
   ],
   "execution_count": 11
  },
  {
   "metadata": {},
   "cell_type": "markdown",
   "source": "On the x-axis, there is the date and time of solving, on the y-axis, numbers of solved puzzles per one attempt. The red line goes through 15 puzzles, and it is the score I do not want to go under. ",
   "id": "6a5daa4d3556fcf5"
  },
  {
   "metadata": {},
   "cell_type": "markdown",
   "source": [
    "to do: \n",
    "- if no error, make a star instead of the dot\n",
    "- 5 puzzle rushes a day\n",
    "- try to have 0 sec time at the end \n",
    "- slow down when errors \n",
    "- добавить время и безошибочные попытки\n",
    "- make a global file with stat for each month"
   ],
   "id": "da9491426ccaf6d1"
  },
  {
   "metadata": {},
   "cell_type": "markdown",
   "source": "### Pandas stat",
   "id": "7181565c7c52a391"
  },
  {
   "metadata": {
    "ExecuteTime": {
     "end_time": "2025-03-31T10:38:09.531389Z",
     "start_time": "2025-03-31T10:38:09.515523Z"
    }
   },
   "cell_type": "code",
   "source": [
    "import pandas as pd\n",
    "\n",
    "puzzle_rush = pd.read_csv('data/puzzle_rush_202503.csv')\n",
    "puzzle_rush.columns = ['Timestamp', 'Mode', 'Score', 'TimeLeft', 'Errors']\n",
    "\n",
    "puzzle_rush.head()"
   ],
   "id": "2bac880eae8869f",
   "outputs": [
    {
     "data": {
      "text/plain": [
       "             Timestamp  Mode  Score  TimeLeft  Errors\n",
       "0  2025-03-03 10:41:13     3     20         0       3\n",
       "1  2025-03-03 10:45:12     3     14        75       3\n",
       "2  2025-03-04 10:42:08     3     18        52       3\n",
       "3  2025-03-04 10:46:30     3     17         0       3\n",
       "4  2025-03-04 10:49:29     3     13        66       3"
      ],
      "text/html": [
       "<div>\n",
       "<style scoped>\n",
       "    .dataframe tbody tr th:only-of-type {\n",
       "        vertical-align: middle;\n",
       "    }\n",
       "\n",
       "    .dataframe tbody tr th {\n",
       "        vertical-align: top;\n",
       "    }\n",
       "\n",
       "    .dataframe thead th {\n",
       "        text-align: right;\n",
       "    }\n",
       "</style>\n",
       "<table border=\"1\" class=\"dataframe\">\n",
       "  <thead>\n",
       "    <tr style=\"text-align: right;\">\n",
       "      <th></th>\n",
       "      <th>Timestamp</th>\n",
       "      <th>Mode</th>\n",
       "      <th>Score</th>\n",
       "      <th>TimeLeft</th>\n",
       "      <th>Errors</th>\n",
       "    </tr>\n",
       "  </thead>\n",
       "  <tbody>\n",
       "    <tr>\n",
       "      <th>0</th>\n",
       "      <td>2025-03-03 10:41:13</td>\n",
       "      <td>3</td>\n",
       "      <td>20</td>\n",
       "      <td>0</td>\n",
       "      <td>3</td>\n",
       "    </tr>\n",
       "    <tr>\n",
       "      <th>1</th>\n",
       "      <td>2025-03-03 10:45:12</td>\n",
       "      <td>3</td>\n",
       "      <td>14</td>\n",
       "      <td>75</td>\n",
       "      <td>3</td>\n",
       "    </tr>\n",
       "    <tr>\n",
       "      <th>2</th>\n",
       "      <td>2025-03-04 10:42:08</td>\n",
       "      <td>3</td>\n",
       "      <td>18</td>\n",
       "      <td>52</td>\n",
       "      <td>3</td>\n",
       "    </tr>\n",
       "    <tr>\n",
       "      <th>3</th>\n",
       "      <td>2025-03-04 10:46:30</td>\n",
       "      <td>3</td>\n",
       "      <td>17</td>\n",
       "      <td>0</td>\n",
       "      <td>3</td>\n",
       "    </tr>\n",
       "    <tr>\n",
       "      <th>4</th>\n",
       "      <td>2025-03-04 10:49:29</td>\n",
       "      <td>3</td>\n",
       "      <td>13</td>\n",
       "      <td>66</td>\n",
       "      <td>3</td>\n",
       "    </tr>\n",
       "  </tbody>\n",
       "</table>\n",
       "</div>"
      ]
     },
     "execution_count": 66,
     "metadata": {},
     "output_type": "execute_result"
    }
   ],
   "execution_count": 66
  },
  {
   "metadata": {
    "ExecuteTime": {
     "end_time": "2025-03-31T10:33:46.713947Z",
     "start_time": "2025-03-31T10:33:46.689540Z"
    }
   },
   "cell_type": "code",
   "source": "print(puzzle_rush[['Score', 'Errors', 'TimeLeft']].describe())",
   "id": "503fb2b09c8636c4",
   "outputs": [
    {
     "name": "stdout",
     "output_type": "stream",
     "text": [
      "           Score     Errors    TimeLeft\n",
      "count  73.000000  73.000000   73.000000\n",
      "mean   16.945205   2.260274   20.863014\n",
      "std     2.966903   0.943213   29.871166\n",
      "min     9.000000   0.000000    0.000000\n",
      "25%    15.000000   2.000000    0.000000\n",
      "50%    17.000000   3.000000    0.000000\n",
      "75%    19.000000   3.000000   39.000000\n",
      "max    22.000000   3.000000  108.000000\n"
     ]
    }
   ],
   "execution_count": 62
  },
  {
   "metadata": {
    "ExecuteTime": {
     "end_time": "2025-03-31T11:17:39.975698Z",
     "start_time": "2025-03-31T11:17:39.956810Z"
    }
   },
   "cell_type": "code",
   "source": [
    "zero_time = puzzle_rush[(puzzle_rush['TimeLeft'] == 0)]\n",
    "print(f\"Zero seconds left: {len(zero_time)} out of {len(puzzle_rush['Timestamp'])} \"\n",
    "      f\"({len(zero_time)/len(puzzle_rush['Timestamp'])*100:.2f}%)\")"
   ],
   "id": "2257892508876ad2",
   "outputs": [
    {
     "name": "stdout",
     "output_type": "stream",
     "text": [
      "Zero seconds left: 38 out of 73 (52.05%)\n"
     ]
    }
   ],
   "execution_count": 73
  },
  {
   "metadata": {
    "ExecuteTime": {
     "end_time": "2025-03-31T11:20:03.240770Z",
     "start_time": "2025-03-31T11:20:03.225874Z"
    }
   },
   "cell_type": "code",
   "source": [
    "under_15 = puzzle_rush[(puzzle_rush['Score'] <= 15)]\n",
    "print(f\"Below 15 score red line: {len(under_15)} out of {len(puzzle_rush['Timestamp'])} \"\n",
    "      f\"({len(under_15)/len(puzzle_rush['Timestamp'])*100:.2f}%)\")"
   ],
   "id": "737243ca7ffdb635",
   "outputs": [
    {
     "name": "stdout",
     "output_type": "stream",
     "text": [
      "Below 15 score (red line): 21 out of 73 (28.77%)\n"
     ]
    }
   ],
   "execution_count": 75
  },
  {
   "metadata": {
    "ExecuteTime": {
     "end_time": "2025-03-31T11:22:15.296040Z",
     "start_time": "2025-03-31T11:22:15.265585Z"
    }
   },
   "cell_type": "code",
   "source": [
    "zero_time_no_error = puzzle_rush[(puzzle_rush['TimeLeft'] == 0) & (puzzle_rush['Errors'] == 0)]\n",
    "print(f\"Zero seconds left and zero errors: {len(zero_time_no_error)} out of {len(puzzle_rush['Timestamp'])} \"\n",
    "      f\"({len(zero_time_no_error)/len(puzzle_rush['Timestamp'])*100:.2f}%)\")"
   ],
   "id": "78d45a87a7ea8b26",
   "outputs": [
    {
     "name": "stdout",
     "output_type": "stream",
     "text": [
      "Zero seconds left and zero errors: 4 out of 73 (5.48%)\n"
     ]
    }
   ],
   "execution_count": 76
  },
  {
   "metadata": {},
   "cell_type": "code",
   "outputs": [],
   "execution_count": null,
   "source": "",
   "id": "4e41f4387576a919"
  }
 ],
 "metadata": {
  "kernelspec": {
   "display_name": "Python 3",
   "language": "python",
   "name": "python3"
  },
  "language_info": {
   "codemirror_mode": {
    "name": "ipython",
    "version": 2
   },
   "file_extension": ".py",
   "mimetype": "text/x-python",
   "name": "python",
   "nbconvert_exporter": "python",
   "pygments_lexer": "ipython2",
   "version": "2.7.6"
  }
 },
 "nbformat": 4,
 "nbformat_minor": 5
}
