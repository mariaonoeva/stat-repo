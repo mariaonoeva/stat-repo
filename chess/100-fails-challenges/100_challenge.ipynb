{
 "cells": [
  {
   "metadata": {},
   "cell_type": "markdown",
   "source": [
    "# 100 fails challenges \n",
    "\n",
    "Welcome to my fails challenge! Winning is fun but loosing is cooler. Here I track my losses in both blitz (3-5 mins) and rapid (10-15 mins). I use `chess.com` API to track them. I did already one by hand, but it was hard to count. "
   ],
   "id": "9102742db73e6a84"
  },
  {
   "metadata": {
    "ExecuteTime": {
     "end_time": "2025-06-19T08:59:03.399298Z",
     "start_time": "2025-06-19T08:59:03.058047Z"
    }
   },
   "cell_type": "code",
   "source": [
    "import requests # to request data from the link\n",
    "import json\n",
    "headers = {\n",
    "    \"User-Agent\": \"PyCharm 2024.1.1 (Professional Edition), \"\n",
    "                  \"(maria.onoeva@gmail.com)\"\n",
    "}\n",
    "\n",
    "url =\"https://api.chess.com/pub/player/xoroshulia/stats\"\n",
    "url_req = requests.get(url, headers=headers)\n",
    "data = json.loads(url_req.text)"
   ],
   "id": "a978549abf6181a5",
   "outputs": [],
   "execution_count": 7
  },
  {
   "metadata": {
    "ExecuteTime": {
     "end_time": "2025-06-19T10:15:50.048036Z",
     "start_time": "2025-06-19T10:15:50.038298Z"
    }
   },
   "cell_type": "code",
   "source": [
    "# print(json.dumps(data, indent=1))\n",
    "\n",
    "rapid_loss = data['chess_rapid']['record']['loss'] # I don't want this as it's going to update every time, so I just get 237 as it is of the start day\n",
    "start_rapid = 237 \n",
    "start_date_rapid = 'June 19, 2025'\n",
    "end_rapid = start_rapid + 100\n",
    "\n",
    "print(\"100 Bullet fails challenge\")\n",
    "if rapid_loss >= end_rapid:\n",
    "    print(f\"The challenge is fulfilled. Date start {start_date_rapid}, Date end\")\n",
    "else:\n",
    "    print(f\"The challenge is still on! Date start: {start_date_rapid}\")\n",
    "    print(\"Current:\" + \"|\" * (rapid_loss - start_rapid))\n",
    "    print(\">> Goal:\" + (\"|\" * 5 + \" \") * 20)"
   ],
   "id": "4eeeb1777e5d9fed",
   "outputs": [
    {
     "name": "stdout",
     "output_type": "stream",
     "text": [
      "100 Bullet fails challenge\n",
      "The challenge is still on! Date start: June 19, 2025\n",
      "Current:\n",
      ">> Goal:||||| ||||| ||||| ||||| ||||| ||||| ||||| ||||| ||||| ||||| ||||| ||||| ||||| ||||| ||||| ||||| ||||| ||||| ||||| ||||| \n"
     ]
    }
   ],
   "execution_count": 20
  },
  {
   "metadata": {
    "ExecuteTime": {
     "end_time": "2025-06-19T10:15:52.047496Z",
     "start_time": "2025-06-19T10:15:52.041653Z"
    }
   },
   "cell_type": "code",
   "source": [
    "blitz_loss = data['chess_blitz']['record']['loss'] # I don't want this as it's going to update every time, so I just get 237 as it is of the start day\n",
    "start_blitz = 117 \n",
    "start_date_blitz = 'June 19, 2025'\n",
    "end_blitz = start_blitz + 100\n",
    "\n",
    "print(\"100 Blitz fails challenge\")\n",
    "if blitz_loss >= end_blitz:\n",
    "    print(f\"The challenge is fulfilled. Date start {start_date_blitz}, Date end\")\n",
    "else:\n",
    "    print(f\"The challenge is still on! Date start: {start_date_blitz}\")\n",
    "    print(\"Current:\" + \"|\" * (blitz_loss - start_rapid))\n",
    "    print(\">> Goal:\" + (\"|\" * 5 + \" \") * 20)"
   ],
   "id": "a5fcf94e2d2c742f",
   "outputs": [
    {
     "name": "stdout",
     "output_type": "stream",
     "text": [
      "100 Blitz fails challenge\n",
      "The challenge is still on! Date start: June 19, 2025\n",
      "Current:\n",
      ">> Goal:||||| ||||| ||||| ||||| ||||| ||||| ||||| ||||| ||||| ||||| ||||| ||||| ||||| ||||| ||||| ||||| ||||| ||||| ||||| ||||| \n"
     ]
    }
   ],
   "execution_count": 21
  },
  {
   "metadata": {},
   "cell_type": "code",
   "outputs": [],
   "execution_count": null,
   "source": "",
   "id": "6a22394b55885b3e"
  }
 ],
 "metadata": {
  "kernelspec": {
   "display_name": "Python 3",
   "language": "python",
   "name": "python3"
  },
  "language_info": {
   "codemirror_mode": {
    "name": "ipython",
    "version": 2
   },
   "file_extension": ".py",
   "mimetype": "text/x-python",
   "name": "python",
   "nbconvert_exporter": "python",
   "pygments_lexer": "ipython2",
   "version": "2.7.6"
  }
 },
 "nbformat": 4,
 "nbformat_minor": 5
}
